{
 "cells": [
  {
   "cell_type": "markdown",
   "metadata": {},
   "source": [
    "# Age prediction on structural data from HBN"
   ]
  },
  {
   "cell_type": "markdown",
   "metadata": {},
   "source": [
    "## Load and Prepare the data \n",
    "\n",
    "Start out impoting the classes and functions we might need"
   ]
  },
  {
   "cell_type": "code",
   "execution_count": 271,
   "metadata": {},
   "outputs": [],
   "source": [
    "import numpy as np\n",
    "#from xgboost import XGBClassifier\n",
    "#from xgboost import XGBRegressor\n",
    "\n",
    "#from sklearn.model_selection import train_test_split\n",
    "#from sklearn.metrics import accuracy_score\n",
    "\n",
    "import csv\n",
    "import pandas as pd\n",
    "\n",
    "from scipy import stats\n",
    "import matplotlib.pyplot as plt\n",
    "\n",
    "import statsmodels.api as sm\n"
   ]
  },
  {
   "cell_type": "markdown",
   "metadata": {},
   "source": [
    "Loading the csv's as panda dataframe"
   ]
  },
  {
   "cell_type": "code",
   "execution_count": 125,
   "metadata": {
    "slideshow": {
     "slide_type": "-"
    }
   },
   "outputs": [],
   "source": [
    "# Loading Pheno \n",
    "all_pheno = pd.read_csv('Pheno_complete.csv')\n",
    "#print(all_pheno.shape) = (366, 3)\n",
    "#sex = all_pheno.Sex\n",
    "#age = all_pheno.Age.values # converting to numpy array\n",
    "#print(age)\n",
    "\n",
    "# to get only the values: age.values\n",
    "\n",
    "# Loading cortical thickness\n",
    "cortical_thickness = pd.read_csv('Cortical_thickness_allRegion.csv')\n",
    "#print(cortical_thickness.shape) = (1458, 63)\n",
    "cortical_thickness_HCP = cortical_thickness[cortical_thickness['sub-type'].str.endswith('HCP')]\n",
    "cortical_thickness_HCP_run01 = cortical_thickness[cortical_thickness['sub-type'].str.endswith('HCP_run-01')]\n",
    "cortical_thickness_HCP_all = pd.concat([cortical_thickness_HCP,cortical_thickness_HCP_run01])\n",
    "#print(cortical_thickness_HCP_all.shape) = (372, 63)\n",
    "\n",
    "cortical_thickness_VNavNorm = cortical_thickness[cortical_thickness['sub-type'].str.endswith('VNavNorm')]\n",
    "cortical_thickness_VNavNorm_run01 = cortical_thickness[cortical_thickness['sub-type'].str.endswith('VNavNorm_run-01')]\n",
    "cortical_thickness_VNavNorm_all = pd.concat([cortical_thickness_VNavNorm,cortical_thickness_VNavNorm_run01])\n",
    "#print(cortical_thickness_VNavNorm_all.shape) = (428, 63)\n",
    "\n",
    "# area\n",
    "area = pd.read_csv('area_allRegion.csv')\n",
    "#print(area.shape) = (1458, 63)\n",
    "area_HCP = area[area['subid'].str.endswith('HCP')]\n",
    "area_HCP_run01 = area[area['subid'].str.endswith('HCP_run-01')]\n",
    "area_HCP_all = pd.concat([area_HCP,area_HCP_run01])\n",
    "#print(area_HCP_all.shape) = (372, 63)\n",
    "\n",
    "area_VNavNorm = area[area['subid'].str.endswith('VNavNorm')]\n",
    "area_VNavNorm_run01 = area[area['subid'].str.endswith('VNavNorm_run-01')]\n",
    "area_VNavNorm_all = pd.concat([area_VNavNorm,area_VNavNorm_run01])\n",
    "#print(area_VNavNorm_all.shape) = (428, 63)\n",
    "\n",
    "\n",
    "# loading volume\n",
    "volume = pd.read_csv('Volume_allRegion.csv')\n",
    "#print(volume.subid)\n",
    "volume_HCP = volume[volume['subid'].str.endswith('HCP')]\n",
    "volume_HCP_run01 = volume[volume['subid'].str.endswith('HCP_run-01')]\n",
    "volume_HCP_all = pd.concat([volume_HCP,volume_HCP_run01])\n",
    "#print(area_HCP_all.shape)  = (372, 63)\n",
    "\n",
    "volume_VNavNorm = volume[volume['subid'].str.endswith('VNavNorm')]\n",
    "volume_VNavNorm_run01 = volume[volume['subid'].str.endswith('VNavNorm_run-01')]\n",
    "volume_VNavNorm_all = pd.concat([volume_VNavNorm,volume_VNavNorm_run01])\n",
    "#print(volume_VNavNorm_all.shape) = (430, 169)\n",
    "\n"
   ]
  },
  {
   "cell_type": "markdown",
   "metadata": {},
   "source": [
    "Now we need to get a list of subjects that are in all datasets \n",
    "As it looks like, the dataset with the phenotypical data is the most restrictive, with 366 rows. \n"
   ]
  },
  {
   "cell_type": "code",
   "execution_count": 126,
   "metadata": {},
   "outputs": [
    {
     "name": "stdout",
     "output_type": "stream",
     "text": [
      "(327, 1)\n"
     ]
    }
   ],
   "source": [
    "#print(all_pheno)\n",
    "\n",
    "#initialize a list\n",
    "#blah = {columns=['subjid']}\n",
    "list_subj = pd.DataFrame(columns=['subjid'])\n",
    "#print(list_subj)\n",
    "\n",
    "\n",
    "#print(cortical_thickness_HCP_all['sub-type'].str[:7])\n",
    "\n",
    "cortical_thick_subjid_HCP = cortical_thickness_HCP_all['sub-type'].str[:7]\n",
    "cortical_thick_subjid_vNav = cortical_thickness_VNavNorm_all['sub-type'].str[:7]\n",
    "\n",
    "#print(cortical_thick)    \n",
    "#print(cortical_thick)\n",
    "#a = cortical_thick.str.contains('5069025')\n",
    "#print(a)\n",
    "\n",
    "# Going though a loop of the subject list that has phenotypical data and seeing which subjects match in the list that also have cortical thickness. \n",
    "for subjid in all_pheno['subid'].str[-7:]:\n",
    "    #print(subjid)\n",
    "    #print(type(cortical_thickness_HCP_all['sub-type'].str[:7]))\n",
    "       \n",
    "    if (cortical_thick_subjid_HCP.str.contains(subjid).any() and  cortical_thick_subjid_vNav.str.contains(subjid).any()):\n",
    "        #print([subjid])\n",
    "        list_subj=list_subj.append({'subjid': subjid},ignore_index=True)\n",
    "        #print(list_subj)\n",
    "    else:\n",
    "        a=1\n",
    "        #print(\"Nope\")\n",
    "    \n",
    "#print(\"This is the list of subjects that have age and cortical thickness: \")\n",
    "print(list_subj.shape)\n"
   ]
  },
  {
   "cell_type": "markdown",
   "metadata": {},
   "source": [
    "Now need to create a list of subects based on sex (males and females)"
   ]
  },
  {
   "cell_type": "code",
   "execution_count": 127,
   "metadata": {},
   "outputs": [],
   "source": [
    "list_subj_male = pd.DataFrame(columns=['subid','Age',\"Sex\"])\n",
    "list_subj_female = pd.DataFrame(columns=['subid','Age',\"Sex\"])\n",
    "#print(list_subj['subjid'].str[:])\n",
    "\n",
    "\n",
    "#print(all_pheno.loc[:])\n",
    "\n",
    "#blah = all_pheno[all_pheno['subid'] == (\"sub-\" + \"5098010\")]\n",
    "\n",
    "for subjid in list_subj['subjid'].str[:]:\n",
    "    blah = all_pheno[all_pheno['subid'] == (\"sub-\" + subjid)]\n",
    "    \n",
    "    \n",
    "    #print(type(blah['Sex'].str[:].to_string()))\n",
    "    #print((blah['Sex'].str.contains(\"M\")).any())\n",
    "    \n",
    "    if (blah['Sex'].str.contains(\"M\")).any():\n",
    "        #print(\"Male\")\n",
    "        list_subj_male = pd.concat([list_subj_male, blah],ignore_index=True)  \n",
    "    else:\n",
    "        #print(\"Female\")\n",
    "        list_subj_female = pd.concat([list_subj_female, blah],ignore_index=True) \n",
    "\n",
    "#print(list_subj_male.shape) \n",
    "#print(list_subj_female.shape) \n",
    "\n"
   ]
  },
  {
   "cell_type": "markdown",
   "metadata": {},
   "source": [
    " Now matching the list of males and females with the cortical thickness values"
   ]
  },
  {
   "cell_type": "code",
   "execution_count": 151,
   "metadata": {},
   "outputs": [],
   "source": [
    "#print(cortical_thickness_HCP_all)\n",
    "#print(cortical_thickness_VNavNorm_all)\n",
    "\n",
    "# initiating the dataframe\n",
    "cortical_thickness_HCP_male = pd.DataFrame(data=None, columns=cortical_thickness_HCP_all.columns)\n",
    "cortical_thickness_HCP_female = pd.DataFrame(data=None, columns=cortical_thickness_HCP_all.columns)\n",
    "cortical_thickness_vNav_male = pd.DataFrame(data=None, columns=cortical_thickness_VNavNorm_all.columns)\n",
    "cortical_thickness_vNav_female = pd.DataFrame(data=None, columns=cortical_thickness_VNavNorm_all.columns)\n",
    "\n",
    "\n",
    "# looping though males first\n",
    "for subjid in list_subj_male['subid'].str[4:]:\n",
    "    #print(subjid)\n",
    "    # Getting the MPRAGE data\n",
    "    blah = cortical_thickness_HCP_all[cortical_thickness_HCP_all[\"sub-type\"].str.contains(subjid)]\n",
    "    cortical_thickness_HCP_male = pd.concat([cortical_thickness_HCP_male, blah],ignore_index=True) \n",
    "    \n",
    "    # Now the vNav\n",
    "    blah = cortical_thickness_VNavNorm_all[cortical_thickness_VNavNorm_all[\"sub-type\"].str.contains(subjid)]\n",
    "    cortical_thickness_vNav_male = pd.concat([cortical_thickness_vNav_male, blah],ignore_index=True) \n",
    "    \n",
    "    \n",
    "    \n",
    "# now looping through the females\n",
    "for subjid in list_subj_female['subid'].str[4:]:\n",
    "    #print(subjid)\n",
    "    # Getting the MPRAGE data\n",
    "    blah = cortical_thickness_HCP_all[cortical_thickness_HCP_all[\"sub-type\"].str.contains(subjid)]\n",
    "    cortical_thickness_HCP_female = pd.concat([cortical_thickness_HCP_female, blah],ignore_index=True) \n",
    "    \n",
    "    # Now the vNav\n",
    "    blah = cortical_thickness_VNavNorm_all[cortical_thickness_VNavNorm_all[\"sub-type\"].str.contains(subjid)]\n",
    "    cortical_thickness_vNav_female = pd.concat([cortical_thickness_vNav_female, blah],ignore_index=True) \n",
    "\n",
    "    \n",
    "# now save everthing in csv files\n",
    "list_subj_male.to_csv(r'list_pheno_males.csv', index = None, header=True)\n",
    "list_subj_female.to_csv(r'list_pheno_females.csv', index = None, header=True)\n",
    "\n",
    "\n",
    "cortical_thickness_HCP_male.to_csv(r'list_cortical_thickness_HCP_male.csv', index = None, header=True)\n",
    "cortical_thickness_vNav_male.to_csv(r'list_cortical_thickness_vNav_male.csv', index = None, header=True)\n",
    "cortical_thickness_HCP_female.to_csv(r'list_cortical_thickness_HCP_female.csv', index = None, header=True)\n",
    "cortical_thickness_vNav_female.to_csv(r'list_cortical_thickness_vNav_female.csv', index = None, header=True)\n",
    "\n",
    "\n"
   ]
  },
  {
   "cell_type": "markdown",
   "metadata": {},
   "source": [
    "Total number os subjects:   \n",
    "list_subj_male = 209   \n",
    "list_subj_female = 118 \n"
   ]
  },
  {
   "cell_type": "markdown",
   "metadata": {},
   "source": [
    "## Now going to do some statistics (ANCOVA)\n",
    "## !!! REMEMBER - this needs to be changed to a repeted samples ANCOVA\n",
    "\n",
    "Now just organizing the data to easily be used"
   ]
  },
  {
   "cell_type": "code",
   "execution_count": 249,
   "metadata": {},
   "outputs": [
    {
     "name": "stdout",
     "output_type": "stream",
     "text": [
      "ctx-lh-caudalanteriorcingulate, 5.910298854869466, 3.44437726340626e-08\n",
      "ctx-lh-caudalmiddlefrontal, 0.34631892154103733, 0.7297250708900643\n",
      "ctx-lh-cuneus, -1.957761535239356, 0.05263880474500409\n",
      "ctx-lh-entorhinal, -3.300941767227316, 0.0012778914837533423\n",
      "ctx-lh-fusiform, 3.382106775554972, 0.000978782299925813\n",
      "ctx-lh-inferiorparietal, 2.9287431195687827, 0.004091857633478332\n",
      "ctx-lh-inferiortemporal, 1.1538291496466737, 0.2509217428633127\n",
      "ctx-lh-insula, 1.9602108797196305, 0.05234833626157832\n",
      "ctx-lh-isthmuscingulate, 7.152410250953057, 7.97794568800063e-11\n",
      "ctx-lh-lateraloccipital, 0.796111459118271, 0.4275795979848409\n",
      "ctx-lh-lateralorbitofrontal, -1.5985456208312963, 0.11261876322929307\n",
      "ctx-lh-lingual, -3.763539562638734, 0.00026345260345859544\n",
      "ctx-lh-medialorbitofrontal, 2.2326861393565762, 0.027472425029833214\n",
      "ctx-lh-middletemporal, 1.1207184866061208, 0.26470282820072544\n",
      "ctx-lh-paracentral, 2.988206346672896, 0.0034201631032162332\n",
      "ctx-lh-parahippocampal, 3.288269976587544, 0.001331670140520592\n",
      "ctx-lh-parsopercularis, 3.8019679979417313, 0.00022960707327440868\n",
      "ctx-lh-parsorbitalis, 0.5593233754917688, 0.5770101617666035\n",
      "ctx-lh-parstriangularis, 3.4523927795343528, 0.0007741455224399267\n",
      "ctx-lh-pericalcarine, -4.993762209287642, 2.089224283248058e-06\n",
      "ctx-lh-postcentral, -1.2666724736308543, 0.2077882556144577\n",
      "ctx-lh-posteriorcingulate, 6.394152024390476, 3.4381171235381357e-09\n",
      "ctx-lh-precentral, -0.5709144556137081, 0.5691525800383644\n",
      "ctx-lh-precuneus, 5.340577414018766, 4.6185574736462546e-07\n",
      "ctx-lh-rostralanteriorcingulate, 4.317866940114923, 3.317370930983023e-05\n",
      "ctx-lh-rostralmiddlefrontal, 0.8840532004429654, 0.3784805450047861\n",
      "ctx-lh-superiorfrontal, 3.351457760647956, 0.0010830472148584222\n",
      "ctx-lh-superiorparietal, 1.1637775802957557, 0.24688194993759818\n",
      "ctx-lh-superiortemporal, 1.4930792646546351, 0.13810823731942884\n",
      "ctx-lh-supramarginal, 2.708332324808429, 0.007776949058404778\n",
      "ctx-lh-transversetemporal, -0.701312948233981, 0.4845003092994059\n",
      "ctx-rh-caudalanteriorcingulate, 3.2071596419984068, 0.0017291917126699358\n",
      "ctx-rh-caudalmiddlefrontal, 0.15569633121108492, 0.8765406973520818\n",
      "ctx-rh-cuneus, -2.4802054073817024, 0.014553697063609589\n",
      "ctx-rh-entorhinal, -3.1725925455157804, 0.0019301231937449612\n",
      "ctx-rh-fusiform, -1.5318410790659613, 0.12826114367168656\n",
      "ctx-rh-inferiorparietal, 0.16050483750073083, 0.8727602055894206\n",
      "ctx-rh-inferiortemporal, -2.136501497931866, 0.03472162866648433\n",
      "ctx-rh-insula, 2.9298844265400508, 0.004077897391912791\n",
      "ctx-rh-isthmuscingulate, 8.56447120009408, 5.0508097077207855e-14\n",
      "ctx-rh-lateraloccipital, -0.6382724479764368, 0.5245436943163431\n",
      "ctx-rh-lateralorbitofrontal, 2.5851715298806317, 0.010961029223704465\n",
      "ctx-rh-lingual, -6.078708132121489, 1.5594147838757324e-08\n",
      "ctx-rh-medialorbitofrontal, 6.939918829031041, 2.32872154370779e-10\n",
      "ctx-rh-middletemporal, 0.9043387000838488, 0.36767416860932745\n",
      "ctx-rh-paracentral, 3.812706274300181, 0.00022091484217388177\n",
      "ctx-rh-parahippocampal, 0.10201738953047101, 0.9189175077653383\n",
      "ctx-rh-parsopercularis, 3.4478324324737764, 0.0007860965644214982\n",
      "ctx-rh-parsorbitalis, 1.7033559717472828, 0.09115634882047385\n",
      "ctx-rh-parstriangularis, 3.1795619064556195, 0.0018879421581510822\n",
      "ctx-rh-pericalcarine, -5.757628411388897, 6.998032056683719e-08\n",
      "ctx-rh-postcentral, -1.572070801100441, 0.11863455713594998\n",
      "ctx-rh-posteriorcingulate, 7.700757089307023, 4.780339513707912e-12\n",
      "ctx-rh-precentral, -1.5376675632221806, 0.12682998479275467\n",
      "ctx-rh-precuneus, 5.469617637829139, 2.596767565054763e-07\n",
      "ctx-rh-rostralanteriorcingulate, 6.280662056481495, 5.947050305775792e-09\n",
      "ctx-rh-rostralmiddlefrontal, 0.2988682465865475, 0.7655707669915998\n",
      "ctx-rh-superiorfrontal, 3.3367166723471122, 0.0011368199866241629\n",
      "ctx-rh-superiorparietal, -1.1803604691644676, 0.24025105677960865\n",
      "ctx-rh-superiortemporal, 2.1704100576599994, 0.03199638844729804\n",
      "ctx-rh-supramarginal, 1.4539479109300693, 0.1486380057848491\n",
      "ctx-rh-transversetemporal, 3.3788488102441145, 0.0009894011247469782\n"
     ]
    }
   ],
   "source": [
    "# for males, combine the HCP vNav and pheno dataframes\n",
    "\n",
    "for name in column_names[0:62]:\n",
    "    #print(name)\n",
    "    cortical_thickness_HCP_male.rename(columns={name: name + \"_HCP\"}, inplace = True)\n",
    "    cortical_thickness_vNav_male.rename(columns={name: name + \"_vNav\"}, inplace = True)\n",
    "    \n",
    "\n",
    "cortical_thickness_male = pd.merge(cortical_thickness_HCP_male,cortical_thickness_vNav_male, how='outer',  left_index=True, right_index=True)\n",
    "all_male = pd.merge(list_subj_male,cortical_thickness_male, how='outer',  left_index=True, right_index=True)\n",
    "\n",
    "#print(all_male.shape)\n",
    "\n",
    "#for females, combine the HCP vNav and pheno dataframes\n",
    "for name in column_names[0:62]:\n",
    "    #print(name)\n",
    "    cortical_thickness_HCP_female.rename(columns={name: name + \"_HCP\"}, inplace = True)\n",
    "    cortical_thickness_vNav_female.rename(columns={name: name + \"_vNav\"}, inplace = True)\n",
    "    \n",
    "\n",
    "cortical_thickness_female = pd.merge(cortical_thickness_HCP_female,cortical_thickness_vNav_female, how='outer',  left_index=True, right_index=True)\n",
    "all_female = pd.merge(list_subj_female,cortical_thickness_female, how='outer',  left_index=True, right_index=True)\n",
    "\n",
    "#print(all_female.shape)\n",
    "#all_male.describe()\n",
    "\n",
    "#all_female.describe()\n",
    "\n",
    "#all_male[['ctx-lh-caudalanteriorcingulate_HCP', 'ctx-lh-caudalanteriorcingulate_vNav']].plot(kind='box')\n",
    "# Running paired t-tests\n",
    "for name in column_names[0:62]:\n",
    "    #stats.ttest_rel(all_male['ctx-lh-caudalanteriorcingulate_HCP'], all_male['ctx-lh-caudalanteriorcingulate_vNav'])\n",
    "    t_statistic, p_value = stats.ttest_rel(all_male[name + '_HCP'], all_male[name + '_vNav'])\n",
    "    #print(name + \", \" + str(t_statistic) + \", \" + str(p_value) )\n",
    "\n",
    "    \n",
    "\n",
    "\n",
    "for name in column_names[0:62]:\n",
    "    #stats.ttest_rel(all_male['ctx-lh-caudalanteriorcingulate_HCP'], all_male['ctx-lh-caudalanteriorcingulate_vNav'])\n",
    "    t_statistic, p_value = stats.ttest_rel(all_female[name + '_HCP'], all_female[name + '_vNav'])\n",
    "    print(name + \", \" + str(t_statistic) + \", \" + str(p_value) )\n",
    "    \n",
    "    \n",
    "    \n",
    "    "
   ]
  },
  {
   "cell_type": "markdown",
   "metadata": {},
   "source": [
    "Now lets see if there is an age effect on the difference between measurements"
   ]
  },
  {
   "cell_type": "code",
   "execution_count": 308,
   "metadata": {},
   "outputs": [
    {
     "name": "stdout",
     "output_type": "stream",
     "text": [
      "Age\n",
      "20.466575\n"
     ]
    },
    {
     "data": {
      "image/png": "[encoded data removed]",
      "text/plain": [
       "<matplotlib.figure.Figure at 0x1c2228fa90>"
      ]
     },
     "metadata": {},
     "output_type": "display_data"
    }
   ],
   "source": [
    "# need to build another database, but now with the differences between MPRAGE and vNav\n",
    "\n",
    "# copy the columns of a dataframe \n",
    "cortical_thickness_diff_male = pd.DataFrame(data=None, columns=cortical_thickness_HCP_all.columns)\n",
    "\n",
    "#cortical_thickness_HCP_all['ctx-lh-caudalanteriorcingulate'] \n",
    "\n",
    "#a = all_male[column_names[0] + \"_HCP\"] - all_male[column_names[0] + \"_vNav\"]\n",
    "#print(a)\n",
    "#print(list(all_male))\n",
    "\n",
    "#print(column_names[61])\n",
    "\n",
    "\n",
    "for name in column_names[0:62]:\n",
    "    cortical_thickness_diff_male[name] = all_male[name + \"_HCP\"] - all_male[name + \"_vNav\"]\n",
    "\n",
    "#print(cortical_thickness_diff_male[column_names[0]])\n",
    "r = np.array(cortical_thickness_diff_male[column_names[0]])\n",
    "\n",
    "age = np.array(all_male[column_names[64]])\n",
    "\n",
    "print(column_names[64]) # 64 is age\n",
    "print(age.max())\n",
    "\n",
    "plt.figure()\n",
    "plt.subplot(211)\n",
    "plt.plot(age,r,'ro')\n",
    "plt.axis([age.min(), age.max(), r.min(), r.max()])\n",
    "plt.xlabel('age')\n",
    "plt.ylabel('difference')\n",
    "plt.show()\n",
    "#    name + \"_vNav\"\n",
    "#Example on how to do regression ! \n",
    "#http://www.alexsalo.xyz/ancova-comparing-regression-slopes/"
   ]
  },
  {
   "cell_type": "code",
   "execution_count": 325,
   "metadata": {},
   "outputs": [
    {
     "data": {
      "image/png": "[encoded data removed]",
      "text/plain": [
       "<matplotlib.figure.Figure at 0x1c243ed2e8>"
      ]
     },
     "metadata": {},
     "output_type": "display_data"
    }
   ],
   "source": [
    "# Learn about API authentication here: https://plot.ly/python/getting-started\n",
    "# Find your api_key here: https://plot.ly/settings/api\n",
    "\n",
    "import plotly.plotly as py\n",
    "import plotly.graph_objs as go\n",
    "\n",
    "# MatPlotlib\n",
    "import matplotlib.pyplot as plt\n",
    "from matplotlib import pylab\n",
    "\n",
    "# Scientific libraries\n",
    "from numpy import arange,array,ones\n",
    "from scipy import stats\n",
    "\n",
    "\n",
    "xi = arange(0,9)\n",
    "A = array([ xi, ones(9)])\n",
    "\n",
    "# (Almost) linear sequence\n",
    "y = [19, 20, 20.5, 21.5, 22, 23, 23, 25.5, 24]\n",
    "\n",
    "# Generated linear fit\n",
    "slope, intercept, r_value, p_value, std_err = stats.linregress(xi,y)\n",
    "line = slope*xi+intercept\n",
    "\n",
    "plt.plot(xi,y,'o', xi, line)\n",
    "pylab.title('Linear Fit with Matplotlib')\n",
    "ax = plt.gca()\n",
    "ax.set_facecolor((0.898, 0.898, 0.898))\n",
    "fig = plt.gcf()\n",
    "#py.plot_mpl(fig, filename='linear-Fit-with-matplotlib')"
   ]
  },
  {
   "cell_type": "code",
   "execution_count": null,
   "metadata": {},
   "outputs": [],
   "source": []
  }
 ],
 "metadata": {
  "kernelspec": {
   "display_name": "Python 3",
   "language": "python",
   "name": "python3"
  },
  "language_info": {
   "codemirror_mode": {
    "name": "ipython",
    "version": 3
   },
   "file_extension": ".py",
   "mimetype": "text/x-python",
   "name": "python",
   "nbconvert_exporter": "python",
   "pygments_lexer": "ipython3",
   "version": "3.6.4"
  }
 },
 "nbformat": 4,
 "nbformat_minor": 2
}
