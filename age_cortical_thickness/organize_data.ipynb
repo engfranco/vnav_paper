{
 "cells": [
  {
   "cell_type": "markdown",
   "metadata": {},
   "source": [
    "# Age prediction on structural data from HBN"
   ]
  },
  {
   "cell_type": "markdown",
   "metadata": {},
   "source": [
    "## Load and Prepare the data \n",
    "\n",
    "Start out impoting the classes and functions we might need"
   ]
  },
  {
   "cell_type": "code",
   "execution_count": 1,
   "metadata": {},
   "outputs": [],
   "source": [
    "import numpy as np\n",
    "from xgboost import XGBClassifier\n",
    "from xgboost import XGBRegressor\n",
    "\n",
    "from sklearn.model_selection import train_test_split\n",
    "from sklearn.metrics import accuracy_score\n",
    "\n",
    "import csv\n",
    "import pandas as pd"
   ]
  },
  {
   "cell_type": "markdown",
   "metadata": {},
   "source": [
    "Loading the csv's as panda dataframe"
   ]
  },
  {
   "cell_type": "code",
   "execution_count": 2,
   "metadata": {},
   "outputs": [],
   "source": [
    "# Loading Pheno \n",
    "all_pheno = pd.read_csv('Pheno_complete.csv')\n",
    "#print(all_pheno.shape) = (366, 3)\n",
    "sex = all_pheno.Sex\n",
    "age = all_pheno.Age.values # converting to numpy array\n",
    "#print(age)\n",
    "\n",
    "# to get only the values: age.values\n",
    "\n",
    "# Loading cortical thickness\n",
    "cortical_thickness = pd.read_csv('Cortical_thickness_allRegion.csv')\n",
    "#print(cortical_thickness.shape) = (1458, 63)\n",
    "cortical_thickness_HCP = cortical_thickness[cortical_thickness['sub-type'].str.endswith('HCP')]\n",
    "cortical_thickness_HCP_run01 = cortical_thickness[cortical_thickness['sub-type'].str.endswith('HCP_run-01')]\n",
    "cortical_thickness_HCP_all = pd.concat([cortical_thickness_HCP,cortical_thickness_HCP_run01])\n",
    "#print(cortical_thickness_HCP_all.shape) = (372, 63)\n",
    "\n",
    "cortical_thickness_VNavNorm = cortical_thickness[cortical_thickness['sub-type'].str.endswith('VNavNorm')]\n",
    "cortical_thickness_VNavNorm_run01 = cortical_thickness[cortical_thickness['sub-type'].str.endswith('VNavNorm_run-01')]\n",
    "cortical_thickness_VNavNorm_all = pd.concat([cortical_thickness_VNavNorm,cortical_thickness_VNavNorm_run01])\n",
    "#print(cortical_thickness_VNavNorm_all.shape) = (428, 63)\n",
    "\n",
    "# area\n",
    "area = pd.read_csv('area_allRegion.csv')\n",
    "#print(area.shape) = (1458, 63)\n",
    "area_HCP = area[area['subid'].str.endswith('HCP')]\n",
    "area_HCP_run01 = area[area['subid'].str.endswith('HCP_run-01')]\n",
    "area_HCP_all = pd.concat([area_HCP,area_HCP_run01])\n",
    "#print(area_HCP_all.shape) = (372, 63)\n",
    "\n",
    "area_VNavNorm = area[area['subid'].str.endswith('VNavNorm')]\n",
    "area_VNavNorm_run01 = area[area['subid'].str.endswith('VNavNorm_run-01')]\n",
    "area_VNavNorm_all = pd.concat([area_VNavNorm,area_VNavNorm_run01])\n",
    "#print(area_VNavNorm_all.shape) = (428, 63)\n",
    "\n",
    "\n",
    "# loading volume\n",
    "volume = pd.read_csv('Volume_allRegion.csv')\n",
    "#print(volume.subid)\n",
    "volume_HCP = volume[volume['subid'].str.endswith('HCP')]\n",
    "volume_HCP_run01 = volume[volume['subid'].str.endswith('HCP_run-01')]\n",
    "volume_HCP_all = pd.concat([volume_HCP,volume_HCP_run01])\n",
    "#print(area_HCP_all.shape)  = (372, 63)\n",
    "\n",
    "volume_VNavNorm = volume[volume['subid'].str.endswith('VNavNorm')]\n",
    "volume_VNavNorm_run01 = volume[volume['subid'].str.endswith('VNavNorm_run-01')]\n",
    "volume_VNavNorm_all = pd.concat([volume_VNavNorm,volume_VNavNorm_run01])\n",
    "#print(volume_VNavNorm_all.shape) = (430, 169)\n",
    "\n"
   ]
  },
  {
   "cell_type": "markdown",
   "metadata": {},
   "source": [
    "Now we need to get a list of subjects that are in all datasets \n",
    "As it looks like, the dataset with the phenotypical data is the most restrictive, with 366 rows. \n"
   ]
  },
  {
   "cell_type": "code",
   "execution_count": 11,
   "metadata": {},
   "outputs": [],
   "source": [
    "#print(all_pheno)\n",
    "\n",
    "#initialize a list\n",
    "#blah = {columns=['subjid']}\n",
    "list_subj = pd.DataFrame(columns=['subjid'])\n",
    "#print(list_subj)\n",
    "\n",
    "\n",
    "#print(cortical_thickness_HCP_all['sub-type'].str[:7])\n",
    "\n",
    "cortical_thick = cortical_thickness_HCP_all['sub-type'].str[:7]\n",
    "#print(cortical_thick)    \n",
    "#print(cortical_thick)\n",
    "#a = cortical_thick.str.contains('5069025')\n",
    "#print(a)\n",
    "\n",
    "# Going though a loop of the subject list that has phenotypical data and seeing which subjects match in the list that also have cortical thickness. \n",
    "for subjid in all_pheno['subid'].str[-7:]:\n",
    "    #print(subjid)\n",
    "    #print(type(subjid))\n",
    "    #print(type(subjid))\n",
    "    #print(type(cortical_thickness_HCP_all['sub-type'].str[:7]))\n",
    "       \n",
    "    if cortical_thick.str.contains(subjid).any():\n",
    "        #print(\"Mel is there\")\n",
    "        #bb = pd.DataFrame({'subjid': [subjid]})\n",
    "        #print([subjid])\n",
    "        list_subj=list_subj.append({'subjid': subjid},ignore_index=True)\n",
    "        #print(list_subj)\n",
    "    else:\n",
    "        a=1\n",
    "        #print(\"Nope\")\n",
    "    \n",
    "#print(\"This is the list of subjects that have age and cortical thickness: \")\n",
    "#print(list_subj)\n"
   ]
  },
  {
   "cell_type": "markdown",
   "metadata": {},
   "source": [
    "Now need to create a list of subects based on sex"
   ]
  },
  {
   "cell_type": "code",
   "execution_count": 16,
   "metadata": {},
   "outputs": [
    {
     "name": "stdout",
     "output_type": "stream",
     "text": [
      "0      5027335\n",
      "1      5069025\n",
      "2      5098010\n",
      "3      5176827\n",
      "4      5256965\n",
      "5      5310295\n",
      "6      5364560\n",
      "7      5449960\n",
      "8      5871610\n",
      "9      5931763\n",
      "10     5007372\n",
      "11     5020062\n",
      "12     5023141\n",
      "13     5033713\n",
      "14     5037650\n",
      "15     5063769\n",
      "16     5080728\n",
      "17     5080946\n",
      "18     5081488\n",
      "19     5104233\n",
      "20     5107671\n",
      "21     5113195\n",
      "22     5116635\n",
      "23     5121688\n",
      "24     5123565\n",
      "25     5134416\n",
      "26     5136187\n",
      "27     5137528\n",
      "28     5144349\n",
      "29     5148646\n",
      "        ...   \n",
      "302    5600579\n",
      "303    5602755\n",
      "304    5625312\n",
      "305    5636035\n",
      "306    5637030\n",
      "307    5649325\n",
      "308    5651701\n",
      "309    5655712\n",
      "310    5659155\n",
      "311    5659187\n",
      "312    5676750\n",
      "313    5688677\n",
      "314    5705174\n",
      "315    5711547\n",
      "316    5715302\n",
      "317    5718785\n",
      "318    5741635\n",
      "319    5758647\n",
      "320    5801650\n",
      "321    5812430\n",
      "322    5829288\n",
      "323    5847726\n",
      "324    5856575\n",
      "325    5857240\n",
      "326    5868871\n",
      "327    5904606\n",
      "328    5948937\n",
      "329    5951239\n",
      "330    5984844\n",
      "331    5998602\n",
      "Name: subjid, Length: 332, dtype: object\n"
     ]
    }
   ],
   "source": [
    "list_subj_male = pd.DataFrame(columns=['subjid','Age',\"Sex\"])\n",
    "#print(list_subj['subjid'].str[:])\n",
    "\n",
    "print(all_pheno.loc[:])\n",
    "\n",
    "#for subjid in list_subj['subid'].str[:]:\n",
    "    \n",
    "    "
   ]
  }
 ],
 "metadata": {
  "kernelspec": {
   "display_name": "Python 3",
   "language": "python",
   "name": "python3"
  },
  "language_info": {
   "codemirror_mode": {
    "name": "ipython",
    "version": 3
   },
   "file_extension": ".py",
   "mimetype": "text/x-python",
   "name": "python",
   "nbconvert_exporter": "python",
   "pygments_lexer": "ipython3",
   "version": "3.6.4"
  }
 },
 "nbformat": 4,
 "nbformat_minor": 2
}
